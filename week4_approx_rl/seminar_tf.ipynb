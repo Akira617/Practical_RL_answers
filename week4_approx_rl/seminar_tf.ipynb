{
 "cells": [
  {
   "cell_type": "markdown",
   "metadata": {},
   "source": [
    "# Approximate q-learning\n",
    "\n",
    "In this notebook you will teach a __tensorflow__ neural network to do Q-learning."
   ]
  },
  {
   "cell_type": "markdown",
   "metadata": {},
   "source": [
    "__Frameworks__ - we'll accept this homework in any deep learning framework. This particular notebook was designed for tensorflow, but you will find it easy to adapt it to almost any python-based deep learning framework."
   ]
  },
  {
   "cell_type": "code",
   "execution_count": 1,
   "metadata": {
    "collapsed": true
   },
   "outputs": [],
   "source": [
    "#XVFB will be launched if you run on a server\n",
    "import os\n",
    "if type(os.environ.get(\"DISPLAY\")) is not str or len(os.environ.get(\"DISPLAY\"))==0:\n",
    "    !bash ../xvfb start\n",
    "    %env DISPLAY=:1"
   ]
  },
  {
   "cell_type": "code",
   "execution_count": 2,
   "metadata": {
    "collapsed": true
   },
   "outputs": [],
   "source": [
    "import gym\n",
    "import numpy as np\n",
    "import pandas as pd\n",
    "import matplotlib.pyplot as plt\n",
    "%matplotlib inline"
   ]
  },
  {
   "cell_type": "code",
   "execution_count": 3,
   "metadata": {
    "collapsed": true,
    "scrolled": false
   },
   "outputs": [
    {
     "data": {
      "text/plain": [
       "<matplotlib.image.AxesImage at 0x7f791306c240>"
      ]
     },
     "execution_count": 3,
     "metadata": {},
     "output_type": "execute_result"
    },
    {
     "data": {
      "image/png": "[encoded data removed]",
      "text/plain": [
       "<Figure size 432x288 with 1 Axes>"
      ]
     },
     "metadata": {},
     "output_type": "display_data"
    }
   ],
   "source": [
    "env = gym.make(\"CartPole-v0\").env\n",
    "env.reset()\n",
    "n_actions = env.action_space.n\n",
    "state_dim = env.observation_space.shape\n",
    "plt.imshow(env.render(\"rgb_array\"))"
   ]
  },
  {
   "cell_type": "markdown",
   "metadata": {},
   "source": [
    "# Approximate (deep) Q-learning: building the network\n",
    "\n",
    "To train a neural network policy one must have a neural network policy. Let's build it.\n",
    "\n",
    "\n",
    "Since we're working with a pre-extracted features (cart positions, angles and velocities), we don't need a complicated network yet. In fact, let's build something like this for starters:\n",
    "\n",
    "![img](https://s14.postimg.org/uzay2q5rl/qlearning_scheme.png)\n",
    "\n",
    "For your first run, please only use linear layers (L.Dense) and activations. Stuff like batch normalization or dropout may ruin everything if used haphazardly. \n",
    "\n",
    "Also please avoid using nonlinearities like sigmoid & tanh: agent's observations are not normalized so sigmoids may become saturated from init.\n",
    "\n",
    "Ideally you should start small with maybe 1-2 hidden layers with < 200 neurons and then increase network size if agent doesn't beat the target score."
   ]
  },
  {
   "cell_type": "code",
   "execution_count": 4,
   "metadata": {
    "collapsed": true
   },
   "outputs": [
    {
     "name": "stderr",
     "output_type": "stream",
     "text": [
      "/home/peter/anaconda3/lib/python3.6/importlib/_bootstrap.py:219: RuntimeWarning: compiletime version 3.5 of module 'tensorflow.python.framework.fast_tensor_util' does not match runtime version 3.6\n",
      "  return f(*args, **kwds)\n",
      "/home/peter/.local/lib/python3.6/site-packages/h5py/__init__.py:36: FutureWarning: Conversion of the second argument of issubdtype from `float` to `np.floating` is deprecated. In future, it will be treated as `np.float64 == np.dtype(float).type`.\n",
      "  from ._conv import register_converters as _register_converters\n",
      "Using TensorFlow backend.\n"
     ]
    }
   ],
   "source": [
    "import tensorflow as tf\n",
    "import keras\n",
    "import keras.layers as L\n",
    "from keras import backend as K\n",
    "import os\n",
    "tf.reset_default_graph()\n",
    "sess = tf.InteractiveSession()\n",
    "keras.backend.set_session(sess)"
   ]
  },
  {
   "cell_type": "code",
   "execution_count": 5,
   "metadata": {},
   "outputs": [
    {
     "data": {
      "text/plain": [
       "[]"
      ]
     },
     "execution_count": 5,
     "metadata": {},
     "output_type": "execute_result"
    }
   ],
   "source": [
    "# to use GPU\n",
    "os.environ[\"CUDA_VISIBLE_DEVICES\"]=\"0\"\n",
    "\n",
    "# verify that a gpu is listed\n",
    "K.tensorflow_backend._get_available_gpus()"
   ]
  },
  {
   "cell_type": "code",
   "execution_count": 17,
   "metadata": {},
   "outputs": [
    {
     "name": "stdout",
     "output_type": "stream",
     "text": [
      "[name: \"/device:CPU:0\"\n",
      "device_type: \"CPU\"\n",
      "memory_limit: 268435456\n",
      "locality {\n",
      "}\n",
      "incarnation: 4874918330756202030\n",
      "]\n"
     ]
    }
   ],
   "source": [
    "from tensorflow.python.client import device_lib\n",
    "print(device_lib.list_local_devices())"
   ]
  },
  {
   "cell_type": "code",
   "execution_count": 6,
   "metadata": {
    "collapsed": true
   },
   "outputs": [],
   "source": [
    "network = keras.models.Sequential()\n",
    "network.add(L.InputLayer(state_dim))\n",
    "network.add(L.Dense(n_actions))\n",
    "# <YOUR CODE: stack layers!!!1 >"
   ]
  },
  {
   "cell_type": "code",
   "execution_count": 7,
   "metadata": {
    "collapsed": true
   },
   "outputs": [],
   "source": [
    "def get_action(state, epsilon=0):\n",
    "    \"\"\"\n",
    "    sample actions with epsilon-greedy policy\n",
    "    recap: with p = epsilon pick random action, else pick action with highest Q(s,a)\n",
    "    \"\"\"\n",
    "    \n",
    "    picked_action = None\n",
    "    \n",
    "    q_values = network.predict(state[None])[0]\n",
    "\n",
    "    # decide to pick a random number or to pick the best q-value\n",
    "    random_number = np.random.uniform()\n",
    "    \n",
    "    if random_number > epsilon:\n",
    "        max_q_value = np.argmax(q_values)\n",
    "        picked_action = max_q_value\n",
    "    else:\n",
    "        random_action = np.random.choice(range(len(q_values)))\n",
    "        picked_action = random_action\n",
    "    \n",
    "    return picked_action\n"
   ]
  },
  {
   "cell_type": "code",
   "execution_count": 8,
   "metadata": {
    "collapsed": true
   },
   "outputs": [
    {
     "name": "stdout",
     "output_type": "stream",
     "text": [
      "e=0.0 tests passed\n",
      "e=0.1 tests passed\n",
      "e=0.5 tests passed\n",
      "e=1.0 tests passed\n"
     ]
    }
   ],
   "source": [
    "assert network.output_shape == (None, n_actions), \"please make sure your model maps state s -> [Q(s,a0), ..., Q(s, a_last)]\"\n",
    "assert network.layers[-1].activation == keras.activations.linear, \"please make sure you predict q-values without nonlinearity\"\n",
    "\n",
    "# test epsilon-greedy exploration\n",
    "s = env.reset()\n",
    "assert np.shape(get_action(s)) == (), \"please return just one action (integer)\"\n",
    "for eps in [0., 0.1, 0.5, 1.0]:\n",
    "    state_frequencies = np.bincount([get_action(s, epsilon=eps) for i in range(10000)], minlength=n_actions)\n",
    "    best_action = state_frequencies.argmax()\n",
    "    assert abs(state_frequencies[best_action] - 10000 * (1 - eps + eps / n_actions)) < 200\n",
    "    for other_action in range(n_actions):\n",
    "        if other_action != best_action:\n",
    "            assert abs(state_frequencies[other_action] - 10000 * (eps / n_actions)) < 200\n",
    "    print('e=%.1f tests passed'%eps)"
   ]
  },
  {
   "cell_type": "markdown",
   "metadata": {},
   "source": [
    "### Q-learning via gradient descent\n",
    "\n",
    "We shall now train our agent's Q-function by minimizing the TD loss:\n",
    "$$ L = { 1 \\over N} \\sum_i (Q_{\\theta}(s,a) - [r(s,a) + \\gamma \\cdot max_{a'} Q_{-}(s', a')]) ^2 $$\n",
    "\n",
    "\n",
    "Where\n",
    "* $s, a, r, s'$ are current state, action, reward and next state respectively\n",
    "* $\\gamma$ is a discount factor defined two cells above.\n",
    "\n",
    "The tricky part is with  $Q_{-}(s',a')$. From an engineering standpoint, it's the same as $Q_{\\theta}$ - the output of your neural network policy. However, when doing gradient descent, __we won't propagate gradients through it__ to make training more stable (see lectures).\n",
    "\n",
    "To do so, we shall use `tf.stop_gradient` function which basically says \"consider this thing constant when doing backprop\"."
   ]
  },
  {
   "cell_type": "code",
   "execution_count": 9,
   "metadata": {
    "collapsed": true
   },
   "outputs": [],
   "source": [
    "# Create placeholders for the <s, a, r, s'> tuple and a special indicator for game end (is_done = True)\n",
    "states_ph = tf.placeholder('float32', shape=(None,) + state_dim)\n",
    "actions_ph = tf.placeholder('int32', shape=[None])\n",
    "rewards_ph = tf.placeholder('float32', shape=[None])\n",
    "next_states_ph = tf.placeholder('float32', shape=(None,) + state_dim)\n",
    "is_done_ph = tf.placeholder('bool', shape=[None])"
   ]
  },
  {
   "cell_type": "code",
   "execution_count": 10,
   "metadata": {
    "collapsed": true
   },
   "outputs": [],
   "source": [
    "#get q-values for all actions in current states\n",
    "predicted_qvalues = network(states_ph)\n",
    "\n",
    "#select q-values for chosen actions\n",
    "predicted_qvalues_for_actions = tf.reduce_sum(predicted_qvalues * tf.one_hot(actions_ph, n_actions), axis=1)\n"
   ]
  },
  {
   "cell_type": "code",
   "execution_count": 11,
   "metadata": {
    "collapsed": true
   },
   "outputs": [],
   "source": [
    "gamma = 0.99\n",
    "\n",
    "# compute q-values for all actions in next states\n",
    "predicted_next_qvalues = network(next_states_ph)\n",
    "\n",
    "# compute V*(next_states) using predicted next q-values\n",
    "next_state_values = tf.reduce_max(predicted_next_qvalues, axis=1)\n",
    "\n",
    "# compute \"target q-values\" for loss - it's what's inside square parentheses in the above formula.\n",
    "target_qvalues_for_actions = rewards_ph + (gamma * next_state_values)\n",
    "\n",
    "# at the last state we shall use simplified formula: Q(s,a) = r(s,a) since s' doesn't exist\n",
    "target_qvalues_for_actions = tf.where(is_done_ph, rewards_ph, target_qvalues_for_actions)"
   ]
  },
  {
   "cell_type": "code",
   "execution_count": 12,
   "metadata": {
    "collapsed": true
   },
   "outputs": [],
   "source": [
    "#mean squared error loss to minimize\n",
    "loss = (predicted_qvalues_for_actions - tf.stop_gradient(target_qvalues_for_actions)) ** 2\n",
    "loss = tf.reduce_mean(loss)\n",
    "\n",
    "# training function that resembles agent.update(state, action, reward, next_state) from tabular agent\n",
    "train_step = tf.train.AdamOptimizer(1e-4).minimize(loss)"
   ]
  },
  {
   "cell_type": "code",
   "execution_count": 13,
   "metadata": {
    "collapsed": true
   },
   "outputs": [],
   "source": [
    "assert tf.gradients(loss, [predicted_qvalues_for_actions])[0] is not None, \"make sure you update q-values for chosen actions and not just all actions\"\n",
    "assert tf.gradients(loss, [predicted_next_qvalues])[0] is None, \"make sure you don't propagate gradient w.r.t. Q_(s',a')\"\n",
    "assert predicted_next_qvalues.shape.ndims == 2, \"make sure you predicted q-values for all actions in next state\"\n",
    "assert next_state_values.shape.ndims == 1, \"make sure you computed V(s') as maximum over just the actions axis and not all axes\"\n",
    "assert target_qvalues_for_actions.shape.ndims == 1, \"there's something wrong with target q-values, they must be a vector\""
   ]
  },
  {
   "cell_type": "markdown",
   "metadata": {},
   "source": [
    "### Playing the game"
   ]
  },
  {
   "cell_type": "code",
   "execution_count": 14,
   "metadata": {
    "collapsed": true
   },
   "outputs": [],
   "source": [
    "def generate_session(t_max=1000, epsilon=0, train=False):\n",
    "    \"\"\"play env with approximate q-learning agent and train it at the same time\"\"\"\n",
    "    total_reward = 0\n",
    "    s = env.reset()\n",
    "    \n",
    "    for t in range(t_max):\n",
    "        a = get_action(s, epsilon=epsilon)    \n",
    "        next_s, r, done, _ = env.step(a)\n",
    "        \n",
    "        if train:\n",
    "            sess.run(train_step,{\n",
    "                states_ph: [s], actions_ph: [a], rewards_ph: [r], \n",
    "                next_states_ph: [next_s], is_done_ph: [done]\n",
    "            })\n",
    "\n",
    "        total_reward += r\n",
    "        s = next_s\n",
    "        if done: break\n",
    "            \n",
    "    return total_reward"
   ]
  },
  {
   "cell_type": "code",
   "execution_count": 15,
   "metadata": {
    "collapsed": true
   },
   "outputs": [],
   "source": [
    "epsilon = 0.5"
   ]
  },
  {
   "cell_type": "code",
   "execution_count": 16,
   "metadata": {
    "collapsed": true,
    "scrolled": true
   },
   "outputs": [
    {
     "name": "stdout",
     "output_type": "stream",
     "text": [
      "epoch #0\tmean reward = 14.680\tepsilon = 0.500\n",
      "epoch #1\tmean reward = 12.140\tepsilon = 0.495\n",
      "epoch #2\tmean reward = 12.200\tepsilon = 0.490\n",
      "epoch #3\tmean reward = 12.600\tepsilon = 0.485\n",
      "epoch #4\tmean reward = 12.620\tepsilon = 0.480\n",
      "epoch #5\tmean reward = 13.090\tepsilon = 0.475\n",
      "epoch #6\tmean reward = 12.990\tepsilon = 0.471\n",
      "epoch #7\tmean reward = 12.780\tepsilon = 0.466\n",
      "epoch #8\tmean reward = 12.710\tepsilon = 0.461\n",
      "epoch #9\tmean reward = 12.620\tepsilon = 0.457\n",
      "epoch #10\tmean reward = 12.550\tepsilon = 0.452\n",
      "epoch #11\tmean reward = 12.860\tepsilon = 0.448\n",
      "epoch #12\tmean reward = 12.650\tepsilon = 0.443\n",
      "epoch #13\tmean reward = 13.030\tepsilon = 0.439\n",
      "epoch #14\tmean reward = 12.970\tepsilon = 0.434\n",
      "epoch #15\tmean reward = 12.320\tepsilon = 0.430\n",
      "epoch #16\tmean reward = 12.400\tepsilon = 0.426\n",
      "epoch #17\tmean reward = 12.880\tepsilon = 0.421\n",
      "epoch #18\tmean reward = 13.000\tepsilon = 0.417\n",
      "epoch #19\tmean reward = 12.670\tepsilon = 0.413\n",
      "epoch #20\tmean reward = 12.580\tepsilon = 0.409\n",
      "epoch #21\tmean reward = 12.660\tepsilon = 0.405\n",
      "epoch #22\tmean reward = 11.980\tepsilon = 0.401\n",
      "epoch #23\tmean reward = 11.840\tepsilon = 0.397\n",
      "epoch #24\tmean reward = 12.420\tepsilon = 0.393\n",
      "epoch #25\tmean reward = 12.280\tepsilon = 0.389\n",
      "epoch #26\tmean reward = 11.960\tepsilon = 0.385\n",
      "epoch #27\tmean reward = 11.780\tepsilon = 0.381\n",
      "epoch #28\tmean reward = 12.040\tepsilon = 0.377\n",
      "epoch #29\tmean reward = 12.110\tepsilon = 0.374\n",
      "epoch #30\tmean reward = 11.880\tepsilon = 0.370\n",
      "epoch #31\tmean reward = 12.700\tepsilon = 0.366\n",
      "epoch #32\tmean reward = 11.750\tepsilon = 0.362\n",
      "epoch #33\tmean reward = 11.780\tepsilon = 0.359\n",
      "epoch #34\tmean reward = 11.470\tepsilon = 0.355\n",
      "epoch #35\tmean reward = 11.850\tepsilon = 0.352\n",
      "epoch #36\tmean reward = 12.370\tepsilon = 0.348\n",
      "epoch #37\tmean reward = 11.650\tepsilon = 0.345\n",
      "epoch #38\tmean reward = 11.080\tepsilon = 0.341\n",
      "epoch #39\tmean reward = 11.270\tepsilon = 0.338\n",
      "epoch #40\tmean reward = 11.420\tepsilon = 0.334\n",
      "epoch #41\tmean reward = 11.500\tepsilon = 0.331\n",
      "epoch #42\tmean reward = 11.830\tepsilon = 0.328\n",
      "epoch #43\tmean reward = 11.840\tepsilon = 0.325\n",
      "epoch #44\tmean reward = 11.290\tepsilon = 0.321\n",
      "epoch #45\tmean reward = 11.540\tepsilon = 0.318\n",
      "epoch #46\tmean reward = 11.190\tepsilon = 0.315\n",
      "epoch #47\tmean reward = 11.550\tepsilon = 0.312\n",
      "epoch #48\tmean reward = 11.440\tepsilon = 0.309\n",
      "epoch #49\tmean reward = 11.840\tepsilon = 0.306\n",
      "epoch #50\tmean reward = 11.450\tepsilon = 0.303\n",
      "epoch #51\tmean reward = 11.430\tepsilon = 0.299\n",
      "epoch #52\tmean reward = 10.880\tepsilon = 0.296\n",
      "epoch #53\tmean reward = 11.050\tepsilon = 0.294\n",
      "epoch #54\tmean reward = 11.240\tepsilon = 0.291\n",
      "epoch #55\tmean reward = 11.170\tepsilon = 0.288\n",
      "epoch #56\tmean reward = 11.000\tepsilon = 0.285\n",
      "epoch #57\tmean reward = 11.620\tepsilon = 0.282\n",
      "epoch #58\tmean reward = 11.340\tepsilon = 0.279\n",
      "epoch #59\tmean reward = 11.370\tepsilon = 0.276\n",
      "epoch #60\tmean reward = 10.870\tepsilon = 0.274\n",
      "epoch #61\tmean reward = 11.120\tepsilon = 0.271\n",
      "epoch #62\tmean reward = 11.240\tepsilon = 0.268\n",
      "epoch #63\tmean reward = 10.700\tepsilon = 0.265\n",
      "epoch #64\tmean reward = 11.300\tepsilon = 0.263\n",
      "epoch #65\tmean reward = 10.880\tepsilon = 0.260\n",
      "epoch #66\tmean reward = 10.860\tepsilon = 0.258\n",
      "epoch #67\tmean reward = 10.880\tepsilon = 0.255\n",
      "epoch #68\tmean reward = 11.130\tepsilon = 0.252\n",
      "epoch #69\tmean reward = 10.610\tepsilon = 0.250\n",
      "epoch #70\tmean reward = 10.440\tepsilon = 0.247\n",
      "epoch #71\tmean reward = 10.900\tepsilon = 0.245\n",
      "epoch #72\tmean reward = 10.910\tepsilon = 0.242\n",
      "epoch #73\tmean reward = 10.570\tepsilon = 0.240\n",
      "epoch #74\tmean reward = 10.800\tepsilon = 0.238\n",
      "epoch #75\tmean reward = 11.170\tepsilon = 0.235\n",
      "epoch #76\tmean reward = 10.790\tepsilon = 0.233\n",
      "epoch #77\tmean reward = 11.000\tepsilon = 0.231\n",
      "epoch #78\tmean reward = 11.000\tepsilon = 0.228\n",
      "epoch #79\tmean reward = 10.600\tepsilon = 0.226\n",
      "epoch #80\tmean reward = 10.650\tepsilon = 0.224\n",
      "epoch #81\tmean reward = 10.620\tepsilon = 0.222\n",
      "epoch #82\tmean reward = 10.950\tepsilon = 0.219\n",
      "epoch #83\tmean reward = 10.530\tepsilon = 0.217\n",
      "epoch #84\tmean reward = 10.470\tepsilon = 0.215\n",
      "epoch #85\tmean reward = 10.870\tepsilon = 0.213\n",
      "epoch #86\tmean reward = 10.470\tepsilon = 0.211\n",
      "epoch #87\tmean reward = 10.550\tepsilon = 0.209\n",
      "epoch #88\tmean reward = 10.720\tepsilon = 0.206\n",
      "epoch #89\tmean reward = 10.640\tepsilon = 0.204\n",
      "epoch #90\tmean reward = 10.530\tepsilon = 0.202\n",
      "epoch #91\tmean reward = 10.310\tepsilon = 0.200\n",
      "epoch #92\tmean reward = 10.730\tepsilon = 0.198\n",
      "epoch #93\tmean reward = 10.320\tepsilon = 0.196\n",
      "epoch #94\tmean reward = 10.670\tepsilon = 0.194\n",
      "epoch #95\tmean reward = 10.510\tepsilon = 0.192\n",
      "epoch #96\tmean reward = 10.280\tepsilon = 0.191\n",
      "epoch #97\tmean reward = 10.590\tepsilon = 0.189\n",
      "epoch #98\tmean reward = 10.540\tepsilon = 0.187\n",
      "epoch #99\tmean reward = 10.580\tepsilon = 0.185\n",
      "epoch #100\tmean reward = 10.670\tepsilon = 0.183\n",
      "epoch #101\tmean reward = 10.870\tepsilon = 0.181\n",
      "epoch #102\tmean reward = 10.180\tepsilon = 0.179\n",
      "epoch #103\tmean reward = 10.350\tepsilon = 0.178\n",
      "epoch #104\tmean reward = 10.480\tepsilon = 0.176\n",
      "epoch #105\tmean reward = 10.510\tepsilon = 0.174\n",
      "epoch #106\tmean reward = 9.920\tepsilon = 0.172\n",
      "epoch #107\tmean reward = 10.000\tepsilon = 0.171\n",
      "epoch #108\tmean reward = 10.080\tepsilon = 0.169\n",
      "epoch #109\tmean reward = 10.060\tepsilon = 0.167\n",
      "epoch #110\tmean reward = 10.620\tepsilon = 0.166\n",
      "epoch #111\tmean reward = 10.480\tepsilon = 0.164\n",
      "epoch #112\tmean reward = 10.290\tepsilon = 0.162\n",
      "epoch #113\tmean reward = 10.040\tepsilon = 0.161\n",
      "epoch #114\tmean reward = 10.410\tepsilon = 0.159\n",
      "epoch #115\tmean reward = 10.370\tepsilon = 0.157\n",
      "epoch #116\tmean reward = 10.190\tepsilon = 0.156\n",
      "epoch #117\tmean reward = 10.110\tepsilon = 0.154\n",
      "epoch #118\tmean reward = 10.560\tepsilon = 0.153\n",
      "epoch #119\tmean reward = 10.220\tepsilon = 0.151\n",
      "epoch #120\tmean reward = 10.100\tepsilon = 0.150\n",
      "epoch #121\tmean reward = 9.920\tepsilon = 0.148\n",
      "epoch #122\tmean reward = 9.930\tepsilon = 0.147\n",
      "epoch #123\tmean reward = 10.220\tepsilon = 0.145\n",
      "epoch #124\tmean reward = 10.360\tepsilon = 0.144\n",
      "epoch #125\tmean reward = 10.620\tepsilon = 0.142\n",
      "epoch #126\tmean reward = 10.440\tepsilon = 0.141\n",
      "epoch #127\tmean reward = 10.170\tepsilon = 0.140\n",
      "epoch #128\tmean reward = 10.010\tepsilon = 0.138\n",
      "epoch #129\tmean reward = 9.960\tepsilon = 0.137\n",
      "epoch #130\tmean reward = 10.160\tepsilon = 0.135\n",
      "epoch #131\tmean reward = 9.930\tepsilon = 0.134\n",
      "epoch #132\tmean reward = 10.080\tepsilon = 0.133\n",
      "epoch #133\tmean reward = 9.900\tepsilon = 0.131\n",
      "epoch #134\tmean reward = 10.010\tepsilon = 0.130\n",
      "epoch #135\tmean reward = 9.980\tepsilon = 0.129\n",
      "epoch #136\tmean reward = 9.950\tepsilon = 0.127\n",
      "epoch #137\tmean reward = 10.010\tepsilon = 0.126\n",
      "epoch #138\tmean reward = 10.350\tepsilon = 0.125\n",
      "epoch #139\tmean reward = 9.970\tepsilon = 0.124\n",
      "epoch #140\tmean reward = 9.770\tepsilon = 0.122\n",
      "epoch #141\tmean reward = 10.180\tepsilon = 0.121\n",
      "epoch #142\tmean reward = 10.060\tepsilon = 0.120\n",
      "epoch #143\tmean reward = 9.850\tepsilon = 0.119\n",
      "epoch #144\tmean reward = 9.980\tepsilon = 0.118\n",
      "epoch #145\tmean reward = 9.870\tepsilon = 0.116\n",
      "epoch #146\tmean reward = 10.150\tepsilon = 0.115\n",
      "epoch #147\tmean reward = 9.860\tepsilon = 0.114\n",
      "epoch #148\tmean reward = 10.080\tepsilon = 0.113\n",
      "epoch #149\tmean reward = 9.690\tepsilon = 0.112\n",
      "epoch #150\tmean reward = 10.090\tepsilon = 0.111\n",
      "epoch #151\tmean reward = 9.750\tepsilon = 0.110\n",
      "epoch #152\tmean reward = 9.830\tepsilon = 0.109\n",
      "epoch #153\tmean reward = 10.020\tepsilon = 0.107\n",
      "epoch #154\tmean reward = 9.920\tepsilon = 0.106\n",
      "epoch #155\tmean reward = 9.920\tepsilon = 0.105\n",
      "epoch #156\tmean reward = 9.850\tepsilon = 0.104\n",
      "epoch #157\tmean reward = 10.110\tepsilon = 0.103\n",
      "epoch #158\tmean reward = 10.020\tepsilon = 0.102\n",
      "epoch #159\tmean reward = 9.910\tepsilon = 0.101\n",
      "epoch #160\tmean reward = 10.060\tepsilon = 0.100\n",
      "epoch #161\tmean reward = 9.860\tepsilon = 0.099\n",
      "epoch #162\tmean reward = 9.880\tepsilon = 0.098\n",
      "epoch #163\tmean reward = 9.820\tepsilon = 0.097\n",
      "epoch #164\tmean reward = 9.960\tepsilon = 0.096\n",
      "epoch #165\tmean reward = 9.870\tepsilon = 0.095\n",
      "epoch #166\tmean reward = 9.890\tepsilon = 0.094\n",
      "epoch #167\tmean reward = 10.010\tepsilon = 0.093\n",
      "epoch #168\tmean reward = 9.700\tepsilon = 0.092\n",
      "epoch #169\tmean reward = 9.790\tepsilon = 0.091\n",
      "epoch #170\tmean reward = 10.000\tepsilon = 0.091\n",
      "epoch #171\tmean reward = 9.720\tepsilon = 0.090\n",
      "epoch #172\tmean reward = 9.950\tepsilon = 0.089\n",
      "epoch #173\tmean reward = 9.810\tepsilon = 0.088\n",
      "epoch #174\tmean reward = 9.810\tepsilon = 0.087\n",
      "epoch #175\tmean reward = 9.930\tepsilon = 0.086\n",
      "epoch #176\tmean reward = 10.000\tepsilon = 0.085\n",
      "epoch #177\tmean reward = 9.810\tepsilon = 0.084\n",
      "epoch #178\tmean reward = 9.920\tepsilon = 0.084\n",
      "epoch #179\tmean reward = 9.930\tepsilon = 0.083\n",
      "epoch #180\tmean reward = 9.880\tepsilon = 0.082\n",
      "epoch #181\tmean reward = 9.700\tepsilon = 0.081\n",
      "epoch #182\tmean reward = 9.910\tepsilon = 0.080\n",
      "epoch #183\tmean reward = 9.590\tepsilon = 0.079\n",
      "epoch #184\tmean reward = 9.810\tepsilon = 0.079\n",
      "epoch #185\tmean reward = 9.760\tepsilon = 0.078\n",
      "epoch #186\tmean reward = 9.770\tepsilon = 0.077\n",
      "epoch #187\tmean reward = 9.870\tepsilon = 0.076\n",
      "epoch #188\tmean reward = 9.850\tepsilon = 0.076\n",
      "epoch #189\tmean reward = 9.810\tepsilon = 0.075\n",
      "epoch #190\tmean reward = 9.760\tepsilon = 0.074\n",
      "epoch #191\tmean reward = 9.900\tepsilon = 0.073\n",
      "epoch #192\tmean reward = 9.570\tepsilon = 0.073\n",
      "epoch #193\tmean reward = 9.940\tepsilon = 0.072\n",
      "epoch #194\tmean reward = 9.810\tepsilon = 0.071\n",
      "epoch #195\tmean reward = 9.830\tepsilon = 0.070\n",
      "epoch #196\tmean reward = 9.720\tepsilon = 0.070\n",
      "epoch #197\tmean reward = 9.730\tepsilon = 0.069\n",
      "epoch #198\tmean reward = 9.820\tepsilon = 0.068\n",
      "epoch #199\tmean reward = 9.750\tepsilon = 0.068\n",
      "epoch #200\tmean reward = 9.540\tepsilon = 0.067\n",
      "epoch #201\tmean reward = 9.490\tepsilon = 0.066\n",
      "epoch #202\tmean reward = 9.710\tepsilon = 0.066\n",
      "epoch #203\tmean reward = 9.640\tepsilon = 0.065\n",
      "epoch #204\tmean reward = 9.700\tepsilon = 0.064\n",
      "epoch #205\tmean reward = 9.500\tepsilon = 0.064\n",
      "epoch #206\tmean reward = 9.680\tepsilon = 0.063\n",
      "epoch #207\tmean reward = 9.680\tepsilon = 0.062\n",
      "epoch #208\tmean reward = 9.760\tepsilon = 0.062\n",
      "epoch #209\tmean reward = 9.690\tepsilon = 0.061\n",
      "epoch #210\tmean reward = 9.600\tepsilon = 0.061\n",
      "epoch #211\tmean reward = 9.430\tepsilon = 0.060\n",
      "epoch #212\tmean reward = 9.880\tepsilon = 0.059\n",
      "epoch #213\tmean reward = 9.890\tepsilon = 0.059\n",
      "epoch #214\tmean reward = 9.780\tepsilon = 0.058\n",
      "epoch #215\tmean reward = 9.890\tepsilon = 0.058\n",
      "epoch #216\tmean reward = 9.740\tepsilon = 0.057\n"
     ]
    },
    {
     "ename": "KeyboardInterrupt",
     "evalue": "",
     "output_type": "error",
     "traceback": [
      "\u001b[0;31m---------------------------------------------------------------------------\u001b[0m",
      "\u001b[0;31mKeyboardInterrupt\u001b[0m                         Traceback (most recent call last)",
      "\u001b[0;32m<ipython-input-16-100324a4db82>\u001b[0m in \u001b[0;36m<module>\u001b[0;34m()\u001b[0m\n\u001b[1;32m      1\u001b[0m \u001b[0;32mfor\u001b[0m \u001b[0mi\u001b[0m \u001b[0;32min\u001b[0m \u001b[0mrange\u001b[0m\u001b[0;34m(\u001b[0m\u001b[0;36m1000\u001b[0m\u001b[0;34m)\u001b[0m\u001b[0;34m:\u001b[0m\u001b[0;34m\u001b[0m\u001b[0m\n\u001b[0;32m----> 2\u001b[0;31m     \u001b[0msession_rewards\u001b[0m \u001b[0;34m=\u001b[0m \u001b[0;34m[\u001b[0m\u001b[0mgenerate_session\u001b[0m\u001b[0;34m(\u001b[0m\u001b[0mepsilon\u001b[0m\u001b[0;34m=\u001b[0m\u001b[0mepsilon\u001b[0m\u001b[0;34m,\u001b[0m \u001b[0mtrain\u001b[0m\u001b[0;34m=\u001b[0m\u001b[0;32mTrue\u001b[0m\u001b[0;34m)\u001b[0m \u001b[0;32mfor\u001b[0m \u001b[0m_\u001b[0m \u001b[0;32min\u001b[0m \u001b[0mrange\u001b[0m\u001b[0;34m(\u001b[0m\u001b[0;36m100\u001b[0m\u001b[0;34m)\u001b[0m\u001b[0;34m]\u001b[0m\u001b[0;34m\u001b[0m\u001b[0m\n\u001b[0m\u001b[1;32m      3\u001b[0m     \u001b[0mprint\u001b[0m\u001b[0;34m(\u001b[0m\u001b[0;34m\"epoch #{}\\tmean reward = {:.3f}\\tepsilon = {:.3f}\"\u001b[0m\u001b[0;34m.\u001b[0m\u001b[0mformat\u001b[0m\u001b[0;34m(\u001b[0m\u001b[0mi\u001b[0m\u001b[0;34m,\u001b[0m \u001b[0mnp\u001b[0m\u001b[0;34m.\u001b[0m\u001b[0mmean\u001b[0m\u001b[0;34m(\u001b[0m\u001b[0msession_rewards\u001b[0m\u001b[0;34m)\u001b[0m\u001b[0;34m,\u001b[0m \u001b[0mepsilon\u001b[0m\u001b[0;34m)\u001b[0m\u001b[0;34m)\u001b[0m\u001b[0;34m\u001b[0m\u001b[0m\n\u001b[1;32m      4\u001b[0m \u001b[0;34m\u001b[0m\u001b[0m\n\u001b[1;32m      5\u001b[0m     \u001b[0mepsilon\u001b[0m \u001b[0;34m*=\u001b[0m \u001b[0;36m0.99\u001b[0m\u001b[0;34m\u001b[0m\u001b[0m\n",
      "\u001b[0;32m<ipython-input-16-100324a4db82>\u001b[0m in \u001b[0;36m<listcomp>\u001b[0;34m(.0)\u001b[0m\n\u001b[1;32m      1\u001b[0m \u001b[0;32mfor\u001b[0m \u001b[0mi\u001b[0m \u001b[0;32min\u001b[0m \u001b[0mrange\u001b[0m\u001b[0;34m(\u001b[0m\u001b[0;36m1000\u001b[0m\u001b[0;34m)\u001b[0m\u001b[0;34m:\u001b[0m\u001b[0;34m\u001b[0m\u001b[0m\n\u001b[0;32m----> 2\u001b[0;31m     \u001b[0msession_rewards\u001b[0m \u001b[0;34m=\u001b[0m \u001b[0;34m[\u001b[0m\u001b[0mgenerate_session\u001b[0m\u001b[0;34m(\u001b[0m\u001b[0mepsilon\u001b[0m\u001b[0;34m=\u001b[0m\u001b[0mepsilon\u001b[0m\u001b[0;34m,\u001b[0m \u001b[0mtrain\u001b[0m\u001b[0;34m=\u001b[0m\u001b[0;32mTrue\u001b[0m\u001b[0;34m)\u001b[0m \u001b[0;32mfor\u001b[0m \u001b[0m_\u001b[0m \u001b[0;32min\u001b[0m \u001b[0mrange\u001b[0m\u001b[0;34m(\u001b[0m\u001b[0;36m100\u001b[0m\u001b[0;34m)\u001b[0m\u001b[0;34m]\u001b[0m\u001b[0;34m\u001b[0m\u001b[0m\n\u001b[0m\u001b[1;32m      3\u001b[0m     \u001b[0mprint\u001b[0m\u001b[0;34m(\u001b[0m\u001b[0;34m\"epoch #{}\\tmean reward = {:.3f}\\tepsilon = {:.3f}\"\u001b[0m\u001b[0;34m.\u001b[0m\u001b[0mformat\u001b[0m\u001b[0;34m(\u001b[0m\u001b[0mi\u001b[0m\u001b[0;34m,\u001b[0m \u001b[0mnp\u001b[0m\u001b[0;34m.\u001b[0m\u001b[0mmean\u001b[0m\u001b[0;34m(\u001b[0m\u001b[0msession_rewards\u001b[0m\u001b[0;34m)\u001b[0m\u001b[0;34m,\u001b[0m \u001b[0mepsilon\u001b[0m\u001b[0;34m)\u001b[0m\u001b[0;34m)\u001b[0m\u001b[0;34m\u001b[0m\u001b[0m\n\u001b[1;32m      4\u001b[0m \u001b[0;34m\u001b[0m\u001b[0m\n\u001b[1;32m      5\u001b[0m     \u001b[0mepsilon\u001b[0m \u001b[0;34m*=\u001b[0m \u001b[0;36m0.99\u001b[0m\u001b[0;34m\u001b[0m\u001b[0m\n",
      "\u001b[0;32m<ipython-input-14-bfd8d4b3793a>\u001b[0m in \u001b[0;36mgenerate_session\u001b[0;34m(t_max, epsilon, train)\u001b[0m\n\u001b[1;32m     11\u001b[0m             sess.run(train_step,{\n\u001b[1;32m     12\u001b[0m                 \u001b[0mstates_ph\u001b[0m\u001b[0;34m:\u001b[0m \u001b[0;34m[\u001b[0m\u001b[0ms\u001b[0m\u001b[0;34m]\u001b[0m\u001b[0;34m,\u001b[0m \u001b[0mactions_ph\u001b[0m\u001b[0;34m:\u001b[0m \u001b[0;34m[\u001b[0m\u001b[0ma\u001b[0m\u001b[0;34m]\u001b[0m\u001b[0;34m,\u001b[0m \u001b[0mrewards_ph\u001b[0m\u001b[0;34m:\u001b[0m \u001b[0;34m[\u001b[0m\u001b[0mr\u001b[0m\u001b[0;34m]\u001b[0m\u001b[0;34m,\u001b[0m\u001b[0;34m\u001b[0m\u001b[0m\n\u001b[0;32m---> 13\u001b[0;31m                 \u001b[0mnext_states_ph\u001b[0m\u001b[0;34m:\u001b[0m \u001b[0;34m[\u001b[0m\u001b[0mnext_s\u001b[0m\u001b[0;34m]\u001b[0m\u001b[0;34m,\u001b[0m \u001b[0mis_done_ph\u001b[0m\u001b[0;34m:\u001b[0m \u001b[0;34m[\u001b[0m\u001b[0mdone\u001b[0m\u001b[0;34m]\u001b[0m\u001b[0;34m\u001b[0m\u001b[0m\n\u001b[0m\u001b[1;32m     14\u001b[0m             })\n\u001b[1;32m     15\u001b[0m \u001b[0;34m\u001b[0m\u001b[0m\n",
      "\u001b[0;32m~/anaconda3/lib/python3.6/site-packages/tensorflow/python/client/session.py\u001b[0m in \u001b[0;36mrun\u001b[0;34m(self, fetches, feed_dict, options, run_metadata)\u001b[0m\n\u001b[1;32m    887\u001b[0m     \u001b[0;32mtry\u001b[0m\u001b[0;34m:\u001b[0m\u001b[0;34m\u001b[0m\u001b[0m\n\u001b[1;32m    888\u001b[0m       result = self._run(None, fetches, feed_dict, options_ptr,\n\u001b[0;32m--> 889\u001b[0;31m                          run_metadata_ptr)\n\u001b[0m\u001b[1;32m    890\u001b[0m       \u001b[0;32mif\u001b[0m \u001b[0mrun_metadata\u001b[0m\u001b[0;34m:\u001b[0m\u001b[0;34m\u001b[0m\u001b[0m\n\u001b[1;32m    891\u001b[0m         \u001b[0mproto_data\u001b[0m \u001b[0;34m=\u001b[0m \u001b[0mtf_session\u001b[0m\u001b[0;34m.\u001b[0m\u001b[0mTF_GetBuffer\u001b[0m\u001b[0;34m(\u001b[0m\u001b[0mrun_metadata_ptr\u001b[0m\u001b[0;34m)\u001b[0m\u001b[0;34m\u001b[0m\u001b[0m\n",
      "\u001b[0;32m~/anaconda3/lib/python3.6/site-packages/tensorflow/python/client/session.py\u001b[0m in \u001b[0;36m_run\u001b[0;34m(self, handle, fetches, feed_dict, options, run_metadata)\u001b[0m\n\u001b[1;32m   1118\u001b[0m     \u001b[0;32mif\u001b[0m \u001b[0mfinal_fetches\u001b[0m \u001b[0;32mor\u001b[0m \u001b[0mfinal_targets\u001b[0m \u001b[0;32mor\u001b[0m \u001b[0;34m(\u001b[0m\u001b[0mhandle\u001b[0m \u001b[0;32mand\u001b[0m \u001b[0mfeed_dict_tensor\u001b[0m\u001b[0;34m)\u001b[0m\u001b[0;34m:\u001b[0m\u001b[0;34m\u001b[0m\u001b[0m\n\u001b[1;32m   1119\u001b[0m       results = self._do_run(handle, final_targets, final_fetches,\n\u001b[0;32m-> 1120\u001b[0;31m                              feed_dict_tensor, options, run_metadata)\n\u001b[0m\u001b[1;32m   1121\u001b[0m     \u001b[0;32melse\u001b[0m\u001b[0;34m:\u001b[0m\u001b[0;34m\u001b[0m\u001b[0m\n\u001b[1;32m   1122\u001b[0m       \u001b[0mresults\u001b[0m \u001b[0;34m=\u001b[0m \u001b[0;34m[\u001b[0m\u001b[0;34m]\u001b[0m\u001b[0;34m\u001b[0m\u001b[0m\n",
      "\u001b[0;32m~/anaconda3/lib/python3.6/site-packages/tensorflow/python/client/session.py\u001b[0m in \u001b[0;36m_do_run\u001b[0;34m(self, handle, target_list, fetch_list, feed_dict, options, run_metadata)\u001b[0m\n\u001b[1;32m   1313\u001b[0m                                     status)\n\u001b[1;32m   1314\u001b[0m \u001b[0;34m\u001b[0m\u001b[0m\n\u001b[0;32m-> 1315\u001b[0;31m     \u001b[0;32mif\u001b[0m \u001b[0mhandle\u001b[0m \u001b[0;32mis\u001b[0m \u001b[0;32mNone\u001b[0m\u001b[0;34m:\u001b[0m\u001b[0;34m\u001b[0m\u001b[0m\n\u001b[0m\u001b[1;32m   1316\u001b[0m       return self._do_call(_run_fn, self._session, feeds, fetches, targets,\n\u001b[1;32m   1317\u001b[0m                            options, run_metadata)\n",
      "\u001b[0;31mKeyboardInterrupt\u001b[0m: "
     ]
    }
   ],
   "source": [
    "for i in range(1000):\n",
    "    session_rewards = [generate_session(epsilon=epsilon, train=True) for _ in range(100)]\n",
    "    print(\"epoch #{}\\tmean reward = {:.3f}\\tepsilon = {:.3f}\".format(i, np.mean(session_rewards), epsilon))\n",
    "    \n",
    "    epsilon *= 0.99\n",
    "    assert epsilon >= 1e-4, \"Make sure epsilon is always nonzero during training\"\n",
    "    \n",
    "    if np.mean(session_rewards) > 300:\n",
    "        print (\"You Win!\")\n",
    "        break\n"
   ]
  },
  {
   "cell_type": "markdown",
   "metadata": {},
   "source": [
    "### How to interpret results\n",
    "\n",
    "\n",
    "Welcome to the f.. world of deep f...n reinforcement learning. Don't expect agent's reward to smoothly go up. Hope for it to go increase eventually. If it deems you worthy.\n",
    "\n",
    "Seriously though,\n",
    "* __ mean reward__ is the average reward per game. For a correct implementation it may stay low for some 10 epochs, then start growing while oscilating insanely and converges by ~50-100 steps depending on the network architecture. \n",
    "* If it never reaches target score by the end of for loop, try increasing the number of hidden neurons or look at the epsilon.\n",
    "* __ epsilon__ - agent's willingness to explore. If you see that agent's already at < 0.01 epsilon before it's is at least 200, just reset it back to 0.1 - 0.5."
   ]
  },
  {
   "cell_type": "markdown",
   "metadata": {},
   "source": [
    "### Record videos\n",
    "\n",
    "As usual, we now use `gym.wrappers.Monitor` to record a video of our agent playing the game. Unlike our previous attempts with state binarization, this time we expect our agent to act ~~(or fail)~~ more smoothly since there's no more binarization error at play.\n",
    "\n",
    "As you already did with tabular q-learning, we set epsilon=0 for final evaluation to prevent agent from exploring himself to death."
   ]
  },
  {
   "cell_type": "code",
   "execution_count": null,
   "metadata": {
    "collapsed": true,
    "scrolled": true
   },
   "outputs": [],
   "source": [
    "#record sessions\n",
    "import gym.wrappers\n",
    "env = gym.wrappers.Monitor(gym.make(\"CartPole-v0\"),directory=\"videos\",force=True)\n",
    "sessions = [generate_session(epsilon=0, train=False) for _ in range(100)]\n",
    "env.close()\n"
   ]
  },
  {
   "cell_type": "code",
   "execution_count": null,
   "metadata": {
    "collapsed": true
   },
   "outputs": [],
   "source": [
    "#show video\n",
    "from IPython.display import HTML\n",
    "import os\n",
    "\n",
    "video_names = list(filter(lambda s:s.endswith(\".mp4\"),os.listdir(\"./videos/\")))\n",
    "\n",
    "HTML(\"\"\"\n",
    "<video width=\"640\" height=\"480\" controls>\n",
    "  <source src=\"{}\" type=\"video/mp4\">\n",
    "</video>\n",
    "\"\"\".format(\"./videos/\"+video_names[-1])) #this may or may not be _last_ video. Try other indices"
   ]
  },
  {
   "cell_type": "code",
   "execution_count": null,
   "metadata": {
    "collapsed": true
   },
   "outputs": [],
   "source": []
  }
 ],
 "metadata": {
  "anaconda-cloud": {},
  "kernelspec": {
   "display_name": "Python 3",
   "language": "python",
   "name": "python3"
  },
  "language_info": {
   "codemirror_mode": {
    "name": "ipython",
    "version": 3
   },
   "file_extension": ".py",
   "mimetype": "text/x-python",
   "name": "python",
   "nbconvert_exporter": "python",
   "pygments_lexer": "ipython3",
   "version": "3.6.5"
  }
 },
 "nbformat": 4,
 "nbformat_minor": 2
}
